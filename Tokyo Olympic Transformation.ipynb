{
 "cells": [
  {
   "cell_type": "code",
   "execution_count": 26,
   "metadata": {
    "application/vnd.databricks.v1+cell": {
     "cellMetadata": {
      "byteLimit": 2048000,
      "rowLimit": 10000
     },
     "inputWidgets": {},
     "nuid": "c76c1683-d905-4ae9-86f8-3729c50f213a",
     "showTitle": false,
     "title": ""
    }
   },
   "outputs": [],
   "source": [
    "from pyspark.sql.functions import *\n",
    "from pyspark.sql.types import IntegerType, DoubleType, BooleanType, DateType"
   ]
  },
  {
   "cell_type": "code",
   "execution_count": null,
   "metadata": {},
   "outputs": [],
   "source": [
    "containerName = \"tokyoolympiccontainer\"\n",
    "storageAccountName = \"tokyoolympicdata\"\n",
    "accountkey = \"please add access key from azure storage\" #Copied from Accesskeys\n",
    "config = \"fs.azure.sas.\" + containerName+ \".\" + storageAccountName + \".blob.core.windows.net\"\n",
    "spark.conf.set(\"fs.azure.account.key.{storage}.dfs.core.windows.net\".format(storage=storageAccountName), accountkey)\n",
    "PATH_TEMPLATE = \"abfss://{container}@{storage}.dfs.core.windows.net\"\n",
    "RAW_PATH = PATH_TEMPLATE.format(container=containerName, storage=storageAccountName)\n",
    "RAW_FOLDER_PATH = 'rawdata'\n",
    "INPUT_PATH=RAW_PATH+RAW_FOLDER_PATH\n",
    "OUTPUT_PATH=RAW_PATH+'transformeddata'"
   ]
  },
  {
   "cell_type": "code",
   "execution_count": null,
   "metadata": {
    "application/vnd.databricks.v1+cell": {
     "cellMetadata": {
      "byteLimit": 2048000,
      "rowLimit": 10000
     },
     "inputWidgets": {},
     "nuid": "5e603a56-c274-4afd-8cbf-1d013b0c5d09",
     "showTitle": false,
     "title": ""
    }
   },
   "outputs": [
    {
     "data": {
      "text/html": [
       "\n",
       "            <div>\n",
       "                <p><b>SparkSession - hive</b></p>\n",
       "                \n",
       "        <div>\n",
       "            <p><b>SparkContext</b></p>\n",
       "\n",
       "            <p><a href=\"/?o=2723700013584314#setting/sparkui/0809-071007-ueyejyn5/driver-8670347769851812044\">Spark UI</a></p>\n",
       "\n",
       "            <dl>\n",
       "              <dt>Version</dt>\n",
       "                <dd><code>v3.3.2</code></dd>\n",
       "              <dt>Master</dt>\n",
       "                <dd><code>local[*, 4]</code></dd>\n",
       "              <dt>AppName</dt>\n",
       "                <dd><code>Databricks Shell</code></dd>\n",
       "            </dl>\n",
       "        </div>\n",
       "        \n",
       "            </div>\n",
       "        "
      ]
     },
     "metadata": {
      "application/vnd.databricks.v1+output": {
       "addedWidgets": {},
       "arguments": {},
       "data": "\n            <div>\n                <p><b>SparkSession - hive</b></p>\n                \n        <div>\n            <p><b>SparkContext</b></p>\n\n            <p><a href=\"/?o=2723700013584314#setting/sparkui/0809-071007-ueyejyn5/driver-8670347769851812044\">Spark UI</a></p>\n\n            <dl>\n              <dt>Version</dt>\n                <dd><code>v3.3.2</code></dd>\n              <dt>Master</dt>\n                <dd><code>local[*, 4]</code></dd>\n              <dt>AppName</dt>\n                <dd><code>Databricks Shell</code></dd>\n            </dl>\n        </div>\n        \n            </div>\n        ",
       "datasetInfos": [],
       "metadata": {},
       "removedWidgets": [],
       "textData": null,
       "type": "htmlSandbox"
      }
     },
     "output_type": "display_data"
    }
   ],
   "source": [
    "spark"
   ]
  },
  {
   "cell_type": "code",
   "execution_count": null,
   "metadata": {
    "application/vnd.databricks.v1+cell": {
     "cellMetadata": {
      "byteLimit": 2048000,
      "rowLimit": 10000
     },
     "inputWidgets": {},
     "nuid": "181fa770-c731-4991-946c-d3d5bc32400f",
     "showTitle": false,
     "title": ""
    }
   },
   "outputs": [],
   "source": [
    "athletes = spark.read.csv(INPUT_PATH+'/athletes',sep=',',inferSchema=True,header=True)athletes.csv\")\n",
    "coaches = spark.read.csv(INPUT_PATH+'/coaches',sep=',',inferSchema=True,header=True)\n",
    "entriesgender = spark.read.csv(INPUT_PATH+'entriesgender',sep=',',inferSchema=True,header=True)\n",
    "medals = spark.read.csv(INPUT_PATH+'/medals',sep=',',inferSchema=True,header=True)\n",
    "teams = spark.read.csv(INPUT_PATH+'/teams',sep=',',inferSchema=True,header=True)"
   ]
  },
  {
   "cell_type": "code",
   "execution_count": 7,
   "metadata": {
    "application/vnd.databricks.v1+cell": {
     "cellMetadata": {
      "byteLimit": 2048000,
      "rowLimit": 10000
     },
     "inputWidgets": {},
     "nuid": "ce0247a7-d206-47ec-994f-80ceedd06721",
     "showTitle": false,
     "title": ""
    }
   },
   "outputs": [
    {
     "name": "stdout",
     "output_type": "stream",
     "text": [
      "+--------------------+--------------------+-------------------+\n",
      "|          PersonName|             Country|         Discipline|\n",
      "+--------------------+--------------------+-------------------+\n",
      "|     AALERUD Katrine|              Norway|       Cycling Road|\n",
      "|         ABAD Nestor|               Spain|Artistic Gymnastics|\n",
      "|   ABAGNALE Giovanni|               Italy|             Rowing|\n",
      "|      ABALDE Alberto|               Spain|         Basketball|\n",
      "|       ABALDE Tamara|               Spain|         Basketball|\n",
      "|           ABALO Luc|              France|           Handball|\n",
      "|        ABAROA Cesar|               Chile|             Rowing|\n",
      "|       ABASS Abobakr|               Sudan|           Swimming|\n",
      "|    ABBASALI Hamideh|Islamic Republic ...|             Karate|\n",
      "|       ABBASOV Islam|          Azerbaijan|          Wrestling|\n",
      "|        ABBINGH Lois|         Netherlands|           Handball|\n",
      "|         ABBOT Emily|           Australia|Rhythmic Gymnastics|\n",
      "|       ABBOTT Monica|United States of ...|  Baseball/Softball|\n",
      "|ABDALLA Abubaker ...|               Qatar|          Athletics|\n",
      "|      ABDALLA Maryam|               Egypt|  Artistic Swimming|\n",
      "|      ABDALLAH Shahd|               Egypt|  Artistic Swimming|\n",
      "| ABDALRASOOL Mohamed|               Sudan|               Judo|\n",
      "|   ABDEL LATIF Radwa|               Egypt|           Shooting|\n",
      "|    ABDEL RAZEK Samy|               Egypt|           Shooting|\n",
      "|   ABDELAZIZ Abdalla|               Egypt|             Karate|\n",
      "+--------------------+--------------------+-------------------+\n",
      "only showing top 20 rows\n",
      "\n"
     ]
    }
   ],
   "source": [
    "athletes.show()"
   ]
  },
  {
   "cell_type": "code",
   "execution_count": 8,
   "metadata": {
    "application/vnd.databricks.v1+cell": {
     "cellMetadata": {
      "byteLimit": 2048000,
      "rowLimit": 10000
     },
     "inputWidgets": {},
     "nuid": "d6e90e0a-cbce-4afb-8baf-857b3f47554d",
     "showTitle": false,
     "title": ""
    }
   },
   "outputs": [
    {
     "name": "stdout",
     "output_type": "stream",
     "text": [
      "root\n",
      " |-- PersonName: string (nullable = true)\n",
      " |-- Country: string (nullable = true)\n",
      " |-- Discipline: string (nullable = true)\n",
      "\n"
     ]
    }
   ],
   "source": [
    "athletes.printSchema()"
   ]
  },
  {
   "cell_type": "code",
   "execution_count": 9,
   "metadata": {
    "application/vnd.databricks.v1+cell": {
     "cellMetadata": {
      "byteLimit": 2048000,
      "rowLimit": 10000
     },
     "inputWidgets": {},
     "nuid": "26fd4755-4eb4-4117-b4f5-33b396184b3c",
     "showTitle": false,
     "title": ""
    }
   },
   "outputs": [
    {
     "name": "stdout",
     "output_type": "stream",
     "text": [
      "+--------------------+--------------------+-----------------+--------+\n",
      "|                Name|             Country|       Discipline|   Event|\n",
      "+--------------------+--------------------+-----------------+--------+\n",
      "|     ABDELMAGID Wael|               Egypt|         Football|    NULL|\n",
      "|           ABE Junya|               Japan|       Volleyball|    NULL|\n",
      "|       ABE Katsuhiko|               Japan|       Basketball|    NULL|\n",
      "|        ADAMA Cherif|       C�te d'Ivoire|         Football|    NULL|\n",
      "|          AGEBA Yuya|               Japan|       Volleyball|    NULL|\n",
      "|AIKMAN Siegfried ...|               Japan|           Hockey|     Men|\n",
      "|       AL SAADI Kais|             Germany|           Hockey|     Men|\n",
      "|       ALAMEDA Lonni|              Canada|Baseball/Softball|Softball|\n",
      "|     ALEKNO Vladimir|Islamic Republic ...|       Volleyball|     Men|\n",
      "|     ALEKSEEV Alexey|                 ROC|         Handball|   Women|\n",
      "|ALLER CARBALLO Ma...|               Spain|       Basketball|    NULL|\n",
      "|       ALSHEHRI Saad|        Saudi Arabia|         Football|     Men|\n",
      "|           ALY Kamal|               Egypt|         Football|    NULL|\n",
      "| AMAYA GAITAN Fabian|         Puerto Rico|       Basketball|    NULL|\n",
      "|    AMO AGUADO Pablo|               Spain|         Football|    NULL|\n",
      "|   ANDONOVSKI Vlatko|United States of ...|         Football|   Women|\n",
      "|        ANNAN Alyson|         Netherlands|           Hockey|   Women|\n",
      "|  ARNAU CREUS Xavier|               Japan|           Hockey|   Women|\n",
      "|       ARNOLD Graham|           Australia|         Football|     Men|\n",
      "|         AXNER Tomas|              Sweden|         Handball|   Women|\n",
      "+--------------------+--------------------+-----------------+--------+\n",
      "only showing top 20 rows\n",
      "\n"
     ]
    }
   ],
   "source": [
    "coaches.show()"
   ]
  },
  {
   "cell_type": "code",
   "execution_count": 10,
   "metadata": {
    "application/vnd.databricks.v1+cell": {
     "cellMetadata": {
      "byteLimit": 2048000,
      "rowLimit": 10000
     },
     "inputWidgets": {},
     "nuid": "ab0d4dbf-2ade-43f5-b063-c61ea7098cc2",
     "showTitle": false,
     "title": ""
    }
   },
   "outputs": [
    {
     "name": "stdout",
     "output_type": "stream",
     "text": [
      "root\n",
      " |-- Name: string (nullable = true)\n",
      " |-- Country: string (nullable = true)\n",
      " |-- Discipline: string (nullable = true)\n",
      " |-- Event: string (nullable = true)\n",
      "\n"
     ]
    }
   ],
   "source": [
    "coaches.printSchema()"
   ]
  },
  {
   "cell_type": "code",
   "execution_count": 11,
   "metadata": {
    "application/vnd.databricks.v1+cell": {
     "cellMetadata": {
      "byteLimit": 2048000,
      "rowLimit": 10000
     },
     "inputWidgets": {},
     "nuid": "2f729fb9-3809-434c-9d4d-88eaefc68adb",
     "showTitle": false,
     "title": ""
    }
   },
   "outputs": [
    {
     "name": "stdout",
     "output_type": "stream",
     "text": [
      "+--------------------+------+----+-----+\n",
      "|          Discipline|Female|Male|Total|\n",
      "+--------------------+------+----+-----+\n",
      "|      3x3 Basketball|    32|  32|   64|\n",
      "|             Archery|    64|  64|  128|\n",
      "| Artistic Gymnastics|    98|  98|  196|\n",
      "|   Artistic Swimming|   105|   0|  105|\n",
      "|           Athletics|   969|1072| 2041|\n",
      "|           Badminton|    86|  87|  173|\n",
      "|   Baseball/Softball|    90| 144|  234|\n",
      "|          Basketball|   144| 144|  288|\n",
      "|    Beach Volleyball|    48|  48|   96|\n",
      "|              Boxing|   102| 187|  289|\n",
      "|        Canoe Slalom|    41|  41|   82|\n",
      "|        Canoe Sprint|   123| 126|  249|\n",
      "|Cycling BMX Frees...|    10|   9|   19|\n",
      "|  Cycling BMX Racing|    24|  24|   48|\n",
      "|Cycling Mountain ...|    38|  38|   76|\n",
      "|        Cycling Road|    70| 131|  201|\n",
      "|       Cycling Track|    90|  99|  189|\n",
      "|              Diving|    72|  71|  143|\n",
      "|          Equestrian|    73| 125|  198|\n",
      "|             Fencing|   107| 108|  215|\n",
      "+--------------------+------+----+-----+\n",
      "only showing top 20 rows\n",
      "\n"
     ]
    }
   ],
   "source": [
    "entriesgender.show()"
   ]
  },
  {
   "cell_type": "code",
   "execution_count": 12,
   "metadata": {
    "application/vnd.databricks.v1+cell": {
     "cellMetadata": {
      "byteLimit": 2048000,
      "rowLimit": 10000
     },
     "inputWidgets": {},
     "nuid": "85eb5e27-ae12-44ad-9a19-a52262f54da2",
     "showTitle": false,
     "title": ""
    }
   },
   "outputs": [
    {
     "name": "stdout",
     "output_type": "stream",
     "text": [
      "root\n",
      " |-- Discipline: string (nullable = true)\n",
      " |-- Female: integer (nullable = true)\n",
      " |-- Male: integer (nullable = true)\n",
      " |-- Total: integer (nullable = true)\n",
      "\n"
     ]
    }
   ],
   "source": [
    "entriesgender.printSchema()"
   ]
  },
  {
   "cell_type": "code",
   "execution_count": 15,
   "metadata": {
    "application/vnd.databricks.v1+cell": {
     "cellMetadata": {
      "byteLimit": 2048000,
      "rowLimit": 10000
     },
     "inputWidgets": {},
     "nuid": "f86a74cb-1bc3-439b-b7f3-594fb6ee48a7",
     "showTitle": false,
     "title": ""
    }
   },
   "outputs": [],
   "source": [
    "entriesgender = entriesgender.withColumn(\"Female\",col(\"Female\").cast(IntegerType()))\\\n",
    "    .withColumn(\"Male\",col(\"Male\").cast(IntegerType()))\\\n",
    "    .withColumn(\"Total\",col(\"Total\").cast(IntegerType()))"
   ]
  },
  {
   "cell_type": "code",
   "execution_count": 16,
   "metadata": {
    "application/vnd.databricks.v1+cell": {
     "cellMetadata": {
      "byteLimit": 2048000,
      "rowLimit": 10000
     },
     "inputWidgets": {},
     "nuid": "33b83c1b-f99c-46da-ba2e-5971f86c66f1",
     "showTitle": false,
     "title": ""
    }
   },
   "outputs": [
    {
     "name": "stdout",
     "output_type": "stream",
     "text": [
      "root\n",
      " |-- Discipline: string (nullable = true)\n",
      " |-- Female: integer (nullable = true)\n",
      " |-- Male: integer (nullable = true)\n",
      " |-- Total: integer (nullable = true)\n",
      "\n"
     ]
    }
   ],
   "source": [
    "entriesgender.printSchema()"
   ]
  },
  {
   "cell_type": "code",
   "execution_count": 17,
   "metadata": {
    "application/vnd.databricks.v1+cell": {
     "cellMetadata": {
      "byteLimit": 2048000,
      "rowLimit": 10000
     },
     "inputWidgets": {},
     "nuid": "d2c66e87-314b-4ab2-9e8c-bbe6cf321f2d",
     "showTitle": false,
     "title": ""
    }
   },
   "outputs": [
    {
     "name": "stdout",
     "output_type": "stream",
     "text": [
      "+----+--------------------+----+------+------+-----+-------------+\n",
      "|Rank|         TeamCountry|Gold|Silver|Bronze|Total|Rank by Total|\n",
      "+----+--------------------+----+------+------+-----+-------------+\n",
      "|   1|United States of ...|  39|    41|    33|  113|            1|\n",
      "|   2|People's Republic...|  38|    32|    18|   88|            2|\n",
      "|   3|               Japan|  27|    14|    17|   58|            5|\n",
      "|   4|       Great Britain|  22|    21|    22|   65|            4|\n",
      "|   5|                 ROC|  20|    28|    23|   71|            3|\n",
      "|   6|           Australia|  17|     7|    22|   46|            6|\n",
      "|   7|         Netherlands|  10|    12|    14|   36|            9|\n",
      "|   8|              France|  10|    12|    11|   33|           10|\n",
      "|   9|             Germany|  10|    11|    16|   37|            8|\n",
      "|  10|               Italy|  10|    10|    20|   40|            7|\n",
      "|  11|              Canada|   7|     6|    11|   24|           11|\n",
      "|  12|              Brazil|   7|     6|     8|   21|           12|\n",
      "|  13|         New Zealand|   7|     6|     7|   20|           13|\n",
      "|  14|                Cuba|   7|     3|     5|   15|           18|\n",
      "|  15|             Hungary|   6|     7|     7|   20|           13|\n",
      "|  16|   Republic of Korea|   6|     4|    10|   20|           13|\n",
      "|  17|              Poland|   4|     5|     5|   14|           19|\n",
      "|  18|      Czech Republic|   4|     4|     3|   11|           23|\n",
      "|  19|               Kenya|   4|     4|     2|   10|           25|\n",
      "|  20|              Norway|   4|     2|     2|    8|           29|\n",
      "+----+--------------------+----+------+------+-----+-------------+\n",
      "only showing top 20 rows\n",
      "\n"
     ]
    }
   ],
   "source": [
    "medals.show()"
   ]
  },
  {
   "cell_type": "code",
   "execution_count": 18,
   "metadata": {
    "application/vnd.databricks.v1+cell": {
     "cellMetadata": {
      "byteLimit": 2048000,
      "rowLimit": 10000
     },
     "inputWidgets": {},
     "nuid": "a4fcce57-31ed-4aa8-9499-633d5bb2a4c7",
     "showTitle": false,
     "title": ""
    }
   },
   "outputs": [
    {
     "name": "stdout",
     "output_type": "stream",
     "text": [
      "root\n",
      " |-- Rank: integer (nullable = true)\n",
      " |-- TeamCountry: string (nullable = true)\n",
      " |-- Gold: integer (nullable = true)\n",
      " |-- Silver: integer (nullable = true)\n",
      " |-- Bronze: integer (nullable = true)\n",
      " |-- Total: integer (nullable = true)\n",
      " |-- Rank by Total: integer (nullable = true)\n",
      "\n"
     ]
    }
   ],
   "source": [
    "medals.printSchema()"
   ]
  },
  {
   "cell_type": "code",
   "execution_count": 19,
   "metadata": {
    "application/vnd.databricks.v1+cell": {
     "cellMetadata": {
      "byteLimit": 2048000,
      "rowLimit": 10000
     },
     "inputWidgets": {},
     "nuid": "d05e8089-77c5-424c-aeb9-6c659dc8d20a",
     "showTitle": false,
     "title": ""
    }
   },
   "outputs": [
    {
     "name": "stdout",
     "output_type": "stream",
     "text": [
      "+-------------+--------------+--------------------+------------+\n",
      "|     TeamName|    Discipline|             Country|       Event|\n",
      "+-------------+--------------+--------------------+------------+\n",
      "|      Belgium|3x3 Basketball|             Belgium|         Men|\n",
      "|        China|3x3 Basketball|People's Republic...|         Men|\n",
      "|        China|3x3 Basketball|People's Republic...|       Women|\n",
      "|       France|3x3 Basketball|              France|       Women|\n",
      "|        Italy|3x3 Basketball|               Italy|       Women|\n",
      "|        Japan|3x3 Basketball|               Japan|         Men|\n",
      "|        Japan|3x3 Basketball|               Japan|       Women|\n",
      "|       Latvia|3x3 Basketball|              Latvia|         Men|\n",
      "|     Mongolia|3x3 Basketball|            Mongolia|       Women|\n",
      "|  Netherlands|3x3 Basketball|         Netherlands|         Men|\n",
      "|       Poland|3x3 Basketball|              Poland|         Men|\n",
      "|          ROC|3x3 Basketball|                 ROC|         Men|\n",
      "|          ROC|3x3 Basketball|                 ROC|       Women|\n",
      "|      Romania|3x3 Basketball|             Romania|       Women|\n",
      "|       Serbia|3x3 Basketball|              Serbia|         Men|\n",
      "|United States|3x3 Basketball|United States of ...|       Women|\n",
      "|    Australia|       Archery|           Australia|  Men's Team|\n",
      "|    Australia|       Archery|           Australia|  Mixed Team|\n",
      "|   Bangladesh|       Archery|          Bangladesh|  Mixed Team|\n",
      "|      Belarus|       Archery|             Belarus|Women's Team|\n",
      "+-------------+--------------+--------------------+------------+\n",
      "only showing top 20 rows\n",
      "\n"
     ]
    }
   ],
   "source": [
    "teams.show()"
   ]
  },
  {
   "cell_type": "code",
   "execution_count": 20,
   "metadata": {
    "application/vnd.databricks.v1+cell": {
     "cellMetadata": {
      "byteLimit": 2048000,
      "rowLimit": 10000
     },
     "inputWidgets": {},
     "nuid": "ffe5cb4c-cd58-4b1f-a4c5-66b41931d69a",
     "showTitle": false,
     "title": ""
    }
   },
   "outputs": [
    {
     "name": "stdout",
     "output_type": "stream",
     "text": [
      "root\n",
      " |-- TeamName: string (nullable = true)\n",
      " |-- Discipline: string (nullable = true)\n",
      " |-- Country: string (nullable = true)\n",
      " |-- Event: string (nullable = true)\n",
      "\n"
     ]
    }
   ],
   "source": [
    "teams.printSchema()"
   ]
  },
  {
   "cell_type": "code",
   "execution_count": 27,
   "metadata": {
    "application/vnd.databricks.v1+cell": {
     "cellMetadata": {
      "byteLimit": 2048000,
      "rowLimit": 10000
     },
     "inputWidgets": {},
     "nuid": "b2bda1f9-a0d7-46df-a895-b418522dc40d",
     "showTitle": false,
     "title": ""
    }
   },
   "outputs": [],
   "source": [
    "# Clean up and standardize the data\n",
    "athletes_transformed = athletes.withColumnRenamed(\"PersonName\", \"Name\") \\\n",
    "                                  .withColumn(\"AthleteID\", monotonically_increasing_id()) \\\n",
    "                                  .withColumn(\"Gender\", when(col(\"Discipline\").like(\"%Female%\"), \"Female\").otherwise(\"Male\")) \\\n",
    "                                  .withColumn(\"MedalCount\", lit(0))  # Add logic to calculate the MedalCount if necessary\n",
    "\n",
    "# Example transformation to count athletes by country and discipline\n",
    "athletes_country_discipline = athletes_transformed.groupBy(\"Country\", \"Discipline\").count()\n"
   ]
  },
  {
   "cell_type": "code",
   "execution_count": 29,
   "metadata": {},
   "outputs": [
    {
     "name": "stdout",
     "output_type": "stream",
     "text": [
      "+--------------------+-------------------+-----+\n",
      "|             Country|         Discipline|count|\n",
      "+--------------------+-------------------+-----+\n",
      "|Syrian Arab Republic|      Weightlifting|    1|\n",
      "|             Belgium|               Golf|    3|\n",
      "|               India|            Sailing|    4|\n",
      "|             Ireland|          Badminton|    1|\n",
      "|           Indonesia|             Rowing|    1|\n",
      "|         Philippines|               Golf|    3|\n",
      "|           Lithuania|Artistic Gymnastics|    1|\n",
      "|               Niger|               Judo|    1|\n",
      "|           Venezuela|             Rowing|    2|\n",
      "| Republic of Moldova|          Athletics|    5|\n",
      "|            Honduras|               Judo|    1|\n",
      "|              Canada|          Wrestling|    4|\n",
      "|             Senegal|          Wrestling|    1|\n",
      "|             Comoros|          Athletics|    2|\n",
      "|             Tunisia|            Archery|    2|\n",
      "|         Puerto Rico|               Judo|    3|\n",
      "|               Ghana|           Swimming|    2|\n",
      "|             Algeria|       Cycling Road|    2|\n",
      "|               India|             Tennis|    3|\n",
      "|          Kazakhstan|  Artistic Swimming|    2|\n",
      "+--------------------+-------------------+-----+\n",
      "only showing top 20 rows\n",
      "\n"
     ]
    }
   ],
   "source": [
    "athletes_country_discipline.show()"
   ]
  },
  {
   "cell_type": "code",
   "execution_count": 48,
   "metadata": {},
   "outputs": [],
   "source": [
    "# Clean up and add a unique ID for coaches\n",
    "coaches=coaches.dropna()\n",
    "coaches_transformed = coaches.withColumnRenamed(\"Name\", \"CoachName\") \\\n",
    "                                .withColumn(\"CoachID\", monotonically_increasing_id()) \\\n",
    "                                .withColumn(\"AthleteCount\", lit(0))  # Logic to calculate athlete count if needed\n",
    "\n",
    "# Group by discipline and event, and count number of coaches\n",
    "coaches_discipline_event = coaches_transformed.groupBy(\"Discipline\", \"Event\").count()\n"
   ]
  },
  {
   "cell_type": "code",
   "execution_count": 49,
   "metadata": {},
   "outputs": [
    {
     "name": "stdout",
     "output_type": "stream",
     "text": [
      "+-----------------+--------+-----+\n",
      "|       Discipline|   Event|count|\n",
      "+-----------------+--------+-----+\n",
      "|           Hockey|   Women|   18|\n",
      "|       Basketball|   Women|   12|\n",
      "|Artistic Swimming|    Duet|   27|\n",
      "|       Volleyball|     Men|   12|\n",
      "|       Volleyball|   Women|   12|\n",
      "|         Handball|   Women|   12|\n",
      "|         Football|   Women|   12|\n",
      "|     Rugby Sevens|   Women|   12|\n",
      "|Baseball/Softball|Softball|   20|\n",
      "|         Football|     Men|   16|\n",
      "|           Hockey|     Men|   18|\n",
      "|Baseball/Softball|Baseball|    6|\n",
      "|       Basketball|     Men|   12|\n",
      "|         Handball|     Men|   12|\n",
      "|       Water Polo|     Men|   12|\n",
      "|Artistic Swimming|    Team|   14|\n",
      "|       Water Polo|   Women|   10|\n",
      "|     Rugby Sevens|     Men|   12|\n",
      "+-----------------+--------+-----+\n",
      "\n"
     ]
    }
   ],
   "source": [
    "coaches_discipline_event.show()"
   ]
  },
  {
   "cell_type": "code",
   "execution_count": 51,
   "metadata": {},
   "outputs": [],
   "source": [
    "# Add a ratio column for gender distribution\n",
    "entries_transformed = entriesgender.withColumn(\"FemaleMaleRatio\", col(\"Female\") / col(\"Male\")) \\\n",
    "                                .withColumn(\"GenderBalance\", when(col(\"Female\") == col(\"Male\"), \"Balanced\")\n",
    "                                            .otherwise(\"Imbalanced\"))\n",
    "\n",
    "# Example transformation: Calculate the gender participation ratio for each discipline\n",
    "entries_gender_distribution = entries_transformed.select(\"Discipline\", \"Female\", \"Male\", \"FemaleMaleRatio\", \"GenderBalance\")\n"
   ]
  },
  {
   "cell_type": "code",
   "execution_count": 52,
   "metadata": {},
   "outputs": [
    {
     "name": "stdout",
     "output_type": "stream",
     "text": [
      "+--------------------+------+----+------------------+-------------+\n",
      "|          Discipline|Female|Male|   FemaleMaleRatio|GenderBalance|\n",
      "+--------------------+------+----+------------------+-------------+\n",
      "|      3x3 Basketball|    32|  32|               1.0|     Balanced|\n",
      "|             Archery|    64|  64|               1.0|     Balanced|\n",
      "| Artistic Gymnastics|    98|  98|               1.0|     Balanced|\n",
      "|   Artistic Swimming|   105|   0|              NULL|   Imbalanced|\n",
      "|           Athletics|   969|1072|0.9039179104477612|   Imbalanced|\n",
      "|           Badminton|    86|  87|0.9885057471264368|   Imbalanced|\n",
      "|   Baseball/Softball|    90| 144|             0.625|   Imbalanced|\n",
      "|          Basketball|   144| 144|               1.0|     Balanced|\n",
      "|    Beach Volleyball|    48|  48|               1.0|     Balanced|\n",
      "|              Boxing|   102| 187|0.5454545454545454|   Imbalanced|\n",
      "|        Canoe Slalom|    41|  41|               1.0|     Balanced|\n",
      "|        Canoe Sprint|   123| 126|0.9761904761904762|   Imbalanced|\n",
      "|Cycling BMX Frees...|    10|   9|1.1111111111111112|   Imbalanced|\n",
      "|  Cycling BMX Racing|    24|  24|               1.0|     Balanced|\n",
      "|Cycling Mountain ...|    38|  38|               1.0|     Balanced|\n",
      "|        Cycling Road|    70| 131|0.5343511450381679|   Imbalanced|\n",
      "|       Cycling Track|    90|  99|0.9090909090909091|   Imbalanced|\n",
      "|              Diving|    72|  71|1.0140845070422535|   Imbalanced|\n",
      "|          Equestrian|    73| 125|             0.584|   Imbalanced|\n",
      "|             Fencing|   107| 108|0.9907407407407407|   Imbalanced|\n",
      "+--------------------+------+----+------------------+-------------+\n",
      "only showing top 20 rows\n",
      "\n"
     ]
    }
   ],
   "source": [
    "entries_gender_distribution.show()"
   ]
  },
  {
   "cell_type": "code",
   "execution_count": 54,
   "metadata": {},
   "outputs": [],
   "source": [
    "# Calculate the percentage of gold, silver, and bronze medals\n",
    "medals_transformed = medals.withColumn(\"GoldPercentage\", col(\"Gold\") / col(\"Total\")) \\\n",
    "                               .withColumn(\"SilverPercentage\", col(\"Silver\") / col(\"Total\")) \\\n",
    "                               .withColumn(\"BronzePercentage\", col(\"Bronze\") / col(\"Total\"))\n",
    "\n",
    "# Aggregate medals data by country\n",
    "medals_by_country = medals_transformed.groupBy(\"TeamCountry\").agg(\n",
    "    sum(\"Gold\").alias(\"TotalGold\"),\n",
    "    sum(\"Silver\").alias(\"TotalSilver\"),\n",
    "    sum(\"Bronze\").alias(\"TotalBronze\"),\n",
    "    sum(\"Total\").alias(\"TotalMedals\")\n",
    ")"
   ]
  },
  {
   "cell_type": "code",
   "execution_count": 57,
   "metadata": {},
   "outputs": [
    {
     "name": "stdout",
     "output_type": "stream",
     "text": [
      "+--------------------+---------+-----------+-----------+-----------+\n",
      "|         TeamCountry|TotalGold|TotalSilver|TotalBronze|TotalMedals|\n",
      "+--------------------+---------+-----------+-----------+-----------+\n",
      "|       Côte d'Ivoire|        0|          0|          1|          1|\n",
      "|Islamic Republic ...|        3|          2|          2|          7|\n",
      "|      Chinese Taipei|        2|          4|          6|         12|\n",
      "|              Sweden|        3|          6|          0|          9|\n",
      "|   Republic of Korea|        6|          4|         10|         20|\n",
      "|         Philippines|        1|          2|          1|          4|\n",
      "|            Malaysia|        0|          1|          1|          2|\n",
      "|                Fiji|        1|          0|          1|          2|\n",
      "|              Turkey|        2|          2|          9|         13|\n",
      "|             Germany|       10|         11|         16|         37|\n",
      "|              Jordan|        0|          1|          1|          2|\n",
      "|              France|       10|         12|         11|         33|\n",
      "|              Greece|        2|          1|          1|          4|\n",
      "|              Kosovo|        2|          0|          0|          2|\n",
      "|            Slovakia|        1|          2|          1|          4|\n",
      "|    Hong Kong, China|        1|          2|          3|          6|\n",
      "|           Argentina|        0|          1|          2|          3|\n",
      "|             Belgium|        3|          1|          3|          7|\n",
      "|       Great Britain|       22|         21|         22|         65|\n",
      "|          San Marino|        0|          1|          2|          3|\n",
      "+--------------------+---------+-----------+-----------+-----------+\n",
      "only showing top 20 rows\n",
      "\n"
     ]
    }
   ],
   "source": [
    "medals_by_country.show()"
   ]
  },
  {
   "cell_type": "code",
   "execution_count": 58,
   "metadata": {
    "application/vnd.databricks.v1+cell": {
     "cellMetadata": {
      "byteLimit": 2048000,
      "rowLimit": 10000
     },
     "inputWidgets": {},
     "nuid": "c489a24b-05e4-47c3-a329-9d5e5e1d85b3",
     "showTitle": false,
     "title": ""
    }
   },
   "outputs": [],
   "source": [
    "# Add a unique ID for each team and calculate the total participants in the team\n",
    "teams_transformed = teams.withColumn(\"TeamID\", monotonically_increasing_id()) \\\n",
    "                            .withColumn(\"TotalParticipants\", lit(0))  # Logic to count participants in the team if needed\n",
    "\n",
    "# Aggregate teams by country and discipline\n",
    "teams_country_discipline = teams_transformed.groupBy(\"Country\", \"Discipline\").count()\n"
   ]
  },
  {
   "cell_type": "code",
   "execution_count": 59,
   "metadata": {},
   "outputs": [
    {
     "name": "stdout",
     "output_type": "stream",
     "text": [
      "+--------------------+-------------------+-----+\n",
      "|             Country|         Discipline|count|\n",
      "+--------------------+-------------------+-----+\n",
      "|             Tunisia|            Archery|    1|\n",
      "|          Kazakhstan|  Artistic Swimming|    1|\n",
      "|              Serbia|         Water Polo|    1|\n",
      "|             Belarus|            Archery|    1|\n",
      "|      Czech Republic|          Athletics|    1|\n",
      "|United States of ...|       Table Tennis|    2|\n",
      "|         Netherlands|            Archery|    2|\n",
      "|        South Africa|          Athletics|    2|\n",
      "|              Latvia|   Beach Volleyball|    2|\n",
      "|              Canada|         Basketball|    1|\n",
      "|People's Republic...|           Football|    1|\n",
      "|          Uzbekistan|Rhythmic Gymnastics|    1|\n",
      "|           Australia|           Swimming|    7|\n",
      "|              France|            Archery|    2|\n",
      "|United States of ...|Artistic Gymnastics|    2|\n",
      "|              Canada|      Cycling Track|    4|\n",
      "|             Tunisia|            Fencing|    1|\n",
      "|         Netherlands|             Hockey|    2|\n",
      "|         Netherlands|          Triathlon|    1|\n",
      "|         New Zealand|      Cycling Track|    5|\n",
      "+--------------------+-------------------+-----+\n",
      "only showing top 20 rows\n",
      "\n"
     ]
    }
   ],
   "source": [
    "teams_country_discipline.show()"
   ]
  },
  {
   "cell_type": "code",
   "execution_count": 68,
   "metadata": {},
   "outputs": [
    {
     "name": "stdout",
     "output_type": "stream",
     "text": [
      "+-----------------+--------------+--------------------+------------+\n",
      "|      AthleteName|AthleteCountry|           CoachName|CoachCountry|\n",
      "+-----------------+--------------+--------------------+------------+\n",
      "|  AALERUD Katrine|        Norway|  HERGEIRSSON Thorir|      Norway|\n",
      "|  AALERUD Katrine|        Norway|     BERGE Christian|      Norway|\n",
      "|      ABAD Nestor|         Spain|VIVER ARZA Carlos...|       Spain|\n",
      "|      ABAD Nestor|         Spain|      SOYEZ Frederic|       Spain|\n",
      "|      ABAD Nestor|         Spain|     SCARIOLO Sergio|       Spain|\n",
      "|      ABAD Nestor|         Spain| RIBERA ROMANS Jordi|       Spain|\n",
      "|      ABAD Nestor|         Spain|REQUENA PERICAS J...|       Spain|\n",
      "|      ABAD Nestor|         Spain|REQUENA PERICAS J...|       Spain|\n",
      "|      ABAD Nestor|         Spain|OCA GAIA Miguel A...|       Spain|\n",
      "|      ABAD Nestor|         Spain|MONDELO GARCIA Lucas|       Spain|\n",
      "|      ABAD Nestor|         Spain| MARTIN LOZANO David|       Spain|\n",
      "|      ABAD Nestor|         Spain|  LOCK Adrian Mayner|       Spain|\n",
      "|      ABAD Nestor|         Spain|       FUJIKI Mayuko|       Spain|\n",
      "|      ABAD Nestor|         Spain|       FUJIKI Mayuko|       Spain|\n",
      "|      ABAD Nestor|         Spain|de la FUENTE CAST...|       Spain|\n",
      "|ABAGNALE Giovanni|         Italy|     SACCHETTI Romeo|       Italy|\n",
      "|ABAGNALE Giovanni|         Italy|  PIZZOLINI Federico|       Italy|\n",
      "|ABAGNALE Giovanni|         Italy|    PALERMI Giovanna|       Italy|\n",
      "|ABAGNALE Giovanni|         Italy|     MAZZANTI Davide|       Italy|\n",
      "|ABAGNALE Giovanni|         Italy|GIALLOMBARDO Patr...|       Italy|\n",
      "+-----------------+--------------+--------------------+------------+\n",
      "only showing top 20 rows\n",
      "\n"
     ]
    }
   ],
   "source": [
    "# Rename the columns during the join to avoid ambiguity\n",
    "athletes_transformed = athletes.withColumnRenamed(\"Country\", \"AthleteCountry\") \\\n",
    "                                .withColumnRenamed(\"PersonName\", \"AthleteName\")\n",
    "coaches_transformed = coaches.withColumnRenamed(\"Country\", \"CoachCountry\") \\\n",
    "                             .withColumnRenamed(\"Name\", \"CoachName\")\n",
    "\n",
    "\n",
    "# Now perform the join, specifying the new column names\n",
    "joined_df = athletes_transformed.join(coaches_transformed, \n",
    "                                      athletes_transformed.AthleteCountry == coaches_transformed.CoachCountry, \n",
    "                                      \"inner\")\n",
    "\n",
    "# You can now refer to the columns without ambiguity\n",
    "joined_df.select(\"AthleteName\", \"AthleteCountry\", \"CoachName\", \"CoachCountry\").show()\n"
   ]
  },
  {
   "cell_type": "code",
   "execution_count": 69,
   "metadata": {},
   "outputs": [
    {
     "data": {
      "text/plain": [
       "249"
      ]
     },
     "execution_count": 69,
     "metadata": {},
     "output_type": "execute_result"
    }
   ],
   "source": [
    "athletes_transformed.write.mode(\"overwrite\").parquet(f\"{OUTPUT_PATH}/athletes_transformed\")\n",
    "coaches_transformed.write.mode(\"overwrite\").parquet(f\"{OUTPUT_PATH}/coaches_transformed\")\n",
    "entries_transformed.write.mode(\"overwrite\").parquet(f\"{OUTPUT_PATH}/entries_transformed\")\n",
    "medals_transformed.write.mode(\"overwrite\").parquet(f\"{OUTPUT_PATH}/medals_transformed\")\n",
    "teams_transformed.write.mode(\"overwrite\").parquet(f\"{OUTPUT_PATH}/teams_transformed\")"
   ]
  },
  {
   "cell_type": "code",
   "execution_count": null,
   "metadata": {},
   "outputs": [],
   "source": []
  }
 ],
 "metadata": {
  "application/vnd.databricks.v1+notebook": {
   "dashboards": [],
   "language": "python",
   "notebookMetadata": {
    "mostRecentlyExecutedCommandWithImplicitDF": {
     "commandId": 1201695797254400,
     "dataframes": [
      "_sqldf"
     ]
    },
    "pythonIndentUnit": 4
   },
   "notebookName": "Tokyo Olympic Transformation",
   "widgets": {}
  },
  "kernelspec": {
   "display_name": "Python 3 (ipykernel)",
   "language": "python",
   "name": "python3"
  },
  "language_info": {
   "codemirror_mode": {
    "name": "ipython",
    "version": 3
   },
   "file_extension": ".py",
   "mimetype": "text/x-python",
   "name": "python",
   "nbconvert_exporter": "python",
   "pygments_lexer": "ipython3",
   "version": "3.10.10"
  }
 },
 "nbformat": 4,
 "nbformat_minor": 4
}
